{
 "cells": [
  {
   "cell_type": "markdown",
   "metadata": {},
   "source": [
    "## Interactive Shell"
   ]
  },
  {
   "cell_type": "code",
   "execution_count": null,
   "metadata": {},
   "outputs": [
    {
     "name": "stderr",
     "output_type": "stream",
     "text": [
      "/usr/local/lib/python3.5/dist-packages/tensorflow/python/ops/gradients_impl.py:95: UserWarning: Converting sparse IndexedSlices to a dense Tensor of unknown shape. This may consume a large amount of memory.\n",
      "  \"Converting sparse IndexedSlices to a dense Tensor of unknown shape. \"\n"
     ]
    }
   ],
   "source": [
    "from data_utils import get_trimmed_glove_vectors, load_vocab, \\\n",
    "    get_processing_word, Data\n",
    "from config import Config\n",
    "from cnn_lstm_crf import CnnLstmCrfModel\n",
    "\n",
    "config = Config()\n",
    "\n",
    "vocab_words = load_vocab(config.words_filename)\n",
    "vocab_mor_tags = load_vocab(config.mor_tags_filename)\n",
    "vocab_tags  = load_vocab(config.tags_filename)\n",
    "vocab_chars = load_vocab(config.chars_filename)\n",
    "vocab_lex_tags = load_vocab(config.lex_tags_filename)\n",
    "\n",
    "# get processing functions\n",
    "processing_word = get_processing_word(vocab_words, vocab_chars,\n",
    "                lowercase=True, chars=config.chars)\n",
    "processing_mor_tag = get_processing_word(vocab_mor_tags, lowercase=False)\n",
    "processing_lex_tag = get_processing_word(vocab_lex_tags, lowercase=False)\n",
    "\n",
    "\n",
    "# get pre trained embeddings\n",
    "embeddings = get_trimmed_glove_vectors(config.trimmed_filename)\n",
    "\n",
    "cnn_model = CnnLstmCrfModel(config, embeddings, ntags=len(vocab_tags),nchars=len(vocab_chars))\n",
    "cnn_model.build()"
   ]
  },
  {
   "cell_type": "code",
   "execution_count": null,
   "metadata": {},
   "outputs": [
    {
     "name": "stdout",
     "output_type": "stream",
     "text": [
      "INFO:tensorflow:Restoring parameters from data/model/model_fil_2345_600_100_128_drop_0.8_0924.weights\n"
     ]
    },
    {
     "name": "stderr",
     "output_type": "stream",
     "text": [
      "Restoring parameters from data/model/model_fil_2345_600_100_128_drop_0.8_0924.weights\n",
      "\n",
      "            This is an interactive mode.\n",
      "            To exit, enter 'exit'.\n",
      "            \n"
     ]
    },
    {
     "name": "stdout",
     "output_type": "stream",
     "text": [
      "input>  국내 영화시장 규모는 최근 3년간 2조 원대에서 정체된 상태인 해외 로컬 제작 방식으로 만든 '수상한 그녀'가 중국, 베트남, 일본, 태국 등 5개국 리메이크돼 총 780억 원의 매출로 성공을 거둔 바 있습니다. \n",
      "output> 국내 영화시장 규모는 최근 <3년:DT>간 2조 원대에서 정체된 상태인 해외 로컬 제작 방식으로 만든 수상한 그녀가 <중국:LC>, <베트남:LC>, <일본:LC>, <태국:LC> 등 5개국 리메이크돼 총 780억 원의 매출로 성공을 거둔 바 있습니다.\n",
      "\n",
      "3년\tDT\n",
      "\n",
      "중국\tLC\n",
      "\n",
      "베트남\tLC\n",
      "\n",
      "일본\tLC\n",
      "\n",
      "태국\tLC\n",
      "\n"
     ]
    }
   ],
   "source": [
    "cnn_model.interactive_shell(vocab_tags, processing_word, processing_mor_tag, processing_lex_tag)"
   ]
  },
  {
   "cell_type": "markdown",
   "metadata": {},
   "source": [
    "## Write File"
   ]
  },
  {
   "cell_type": "code",
   "execution_count": 1,
   "metadata": {},
   "outputs": [
    {
     "name": "stderr",
     "output_type": "stream",
     "text": [
      "/usr/local/lib/python3.5/dist-packages/tensorflow/python/ops/gradients_impl.py:95: UserWarning: Converting sparse IndexedSlices to a dense Tensor of unknown shape. This may consume a large amount of memory.\n",
      "  \"Converting sparse IndexedSlices to a dense Tensor of unknown shape. \"\n"
     ]
    },
    {
     "name": "stdout",
     "output_type": "stream",
     "text": [
      "INFO:tensorflow:Restoring parameters from data/model/model_fil_2345_600_100_128_drop_0.8_0924.weights\n"
     ]
    },
    {
     "name": "stderr",
     "output_type": "stream",
     "text": [
      "Restoring parameters from data/model/model_fil_2345_600_100_128_drop_0.8_0924.weights\n"
     ]
    }
   ],
   "source": [
    "from data_utils import get_trimmed_glove_vectors, load_vocab, \\\n",
    "    get_processing_word, Data\n",
    "from config import Config\n",
    "from cnn_lstm_crf import CnnLstmCrfModel\n",
    "\n",
    "config = Config()\n",
    "\n",
    "vocab_words = load_vocab(config.words_filename)\n",
    "vocab_mor_tags = load_vocab(config.mor_tags_filename)\n",
    "vocab_tags  = load_vocab(config.tags_filename)\n",
    "vocab_chars = load_vocab(config.chars_filename)\n",
    "vocab_lex_tags = load_vocab(config.lex_tags_filename)\n",
    "\n",
    "# get processing functions\n",
    "processing_word = get_processing_word(vocab_words, vocab_chars,\n",
    "                lowercase=True, chars=config.chars)\n",
    "processing_mor_tag = get_processing_word(vocab_mor_tags, lowercase=False)\n",
    "processing_lex_tag = get_processing_word(vocab_lex_tags, lowercase=False)\n",
    "\n",
    "\n",
    "# get pre trained embeddings\n",
    "embeddings = get_trimmed_glove_vectors(config.trimmed_filename)\n",
    "\n",
    "cnn_model = CnnLstmCrfModel(config, embeddings, ntags=len(vocab_tags),nchars=len(vocab_chars))\n",
    "cnn_model.build()\n",
    "\n",
    "cnn_model.write_tag_result_test(vocab_tags, processing_word, processing_mor_tag, processing_lex_tag)"
   ]
  },
  {
   "cell_type": "code",
   "execution_count": null,
   "metadata": {
    "collapsed": true
   },
   "outputs": [],
   "source": []
  }
 ],
 "metadata": {
  "kernelspec": {
   "display_name": "Python 3",
   "language": "python",
   "name": "python3"
  },
  "language_info": {
   "codemirror_mode": {
    "name": "ipython",
    "version": 3
   },
   "file_extension": ".py",
   "mimetype": "text/x-python",
   "name": "python",
   "nbconvert_exporter": "python",
   "pygments_lexer": "ipython3",
   "version": "3.5.2"
  }
 },
 "nbformat": 4,
 "nbformat_minor": 2
}
