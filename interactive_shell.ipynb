{
 "cells": [
  {
   "cell_type": "markdown",
   "metadata": {},
   "source": [
    "## Interactive Shell"
   ]
  },
  {
   "cell_type": "code",
   "execution_count": null,
   "metadata": {},
   "outputs": [
    {
     "name": "stderr",
     "output_type": "stream",
     "text": [
      "/usr/local/lib/python3.5/dist-packages/tensorflow/python/ops/gradients_impl.py:95: UserWarning: Converting sparse IndexedSlices to a dense Tensor of unknown shape. This may consume a large amount of memory.\n",
      "  \"Converting sparse IndexedSlices to a dense Tensor of unknown shape. \"\n"
     ]
    }
   ],
   "source": [
    "from data_utils import get_trimmed_glove_vectors, load_vocab, \\\n",
    "    get_processing_word, Data\n",
    "from config import Config\n",
    "from cnn_lstm_crf import CnnLstmCrfModel\n",
    "\n",
    "config = Config()\n",
    "\n",
    "vocab_words = load_vocab(config.words_filename)\n",
    "vocab_mor_tags = load_vocab(config.mor_tags_filename)\n",
    "vocab_tags  = load_vocab(config.tags_filename)\n",
    "vocab_chars = load_vocab(config.chars_filename)\n",
    "vocab_lex_tags = load_vocab(config.lex_tags_filename)\n",
    "\n",
    "# get processing functions\n",
    "processing_word = get_processing_word(vocab_words, vocab_chars,\n",
    "                lowercase=True, chars=config.chars)\n",
    "processing_mor_tag = get_processing_word(vocab_mor_tags, lowercase=False)\n",
    "processing_lex_tag = get_processing_word(vocab_lex_tags, lowercase=False)\n",
    "\n",
    "\n",
    "# get pre trained embeddings\n",
    "embeddings = get_trimmed_glove_vectors(config.trimmed_filename)\n",
    "\n",
    "cnn_model = CnnLstmCrfModel(config, embeddings, ntags=len(vocab_tags),nchars=len(vocab_chars))\n",
    "cnn_model.build()"
   ]
  },
  {
   "cell_type": "code",
   "execution_count": null,
   "metadata": {},
   "outputs": [
    {
     "name": "stdout",
     "output_type": "stream",
     "text": [
      "INFO:tensorflow:Restoring parameters from data/model_1012/model_fil_2345_600_100_128_drop_0.8_0924.weights\n"
     ]
    },
    {
     "name": "stderr",
     "output_type": "stream",
     "text": [
      "Restoring parameters from data/model_1012/model_fil_2345_600_100_128_drop_0.8_0924.weights\n",
      "\n",
      "            This is an interactive mode.\n",
      "            To exit, enter 'exit'.\n",
      "            \n"
     ]
    },
    {
     "name": "stdout",
     "output_type": "stream",
     "text": [
      "input> 지난 해 네이버는 라인 상장과 새로운 경영 리더십 구축을 계기로, 대외 조직의 일하는 방식도 쇄신하며 외부 문의나 요청들을 모두 공식적인 프로세스를 통해 진행하는 시스템을 구축했습니다.\n",
      "\n",
      "output> <지난 해:DT> <네이버:OG>는 <라인:OG> 상장과 새로운 경영 리더십 구축을 계기로, 대외 조직의 일하는 방식도 쇄신하며 외부 문의나 요청들을 모두 공식적인 프로세스를 통해 진행하는 시스템을 구축했습니다.\n",
      "\n",
      "지난 해\tDT\n",
      "\n",
      "네이버\tOG\n",
      "\n",
      "라인\tOG\n",
      "\n",
      "input> 지난 해 네이버는 라인 상장과 새로운 경영 리더십 구축을 계기로, 대외 조직의 일하는 방식도 쇄신하며 외부 문의나 요청들을 모두 공식적인 프로세스를 통해 진행하는 시스템을 구축했습니다.\n",
      "\n",
      "output> <지난 해:DT> <네이버:OG>는 <라인:OG> 상장과 새로운 경영 리더십 구축을 계기로, 대외 조직의 일하는 방식도 쇄신하며 외부 문의나 요청들을 모두 공식적인 프로세스를 통해 진행하는 시스템을 구축했습니다.\n",
      "\n",
      "지난 해\tDT\n",
      "\n",
      "네이버\tOG\n",
      "\n",
      "라인\tOG\n",
      "\n",
      "input> 김준석은 하양에 있는 청와대를 대표하는 박근혜 대통령을 만났다.\n",
      "\n",
      "output> <김:PS>준석은 하양에 있는 <청와대:OG>를 대표하는 <박근혜:PS> 대통령을 만났다.\n",
      "\n",
      "김\tPS\n",
      "\n",
      "청와대\tOG\n",
      "\n",
      "박근혜\tPS\n",
      "\n",
      "input> 김준석은 청와대에 가서 청와대를 대표하는 박근혜 대통령을 만났다.\n",
      "\n",
      "output> <김:PS><준석:PS>은 <청와대:OG>에 가서 <청와대:OG>를 대표하는 <박근혜:PS> 대통령을 만났다.\n",
      "\n",
      "김\tPS\n",
      "\n",
      "준석\tPS\n",
      "\n",
      "청와대\tOG\n",
      "\n",
      "청와대\tOG\n",
      "\n",
      "박근혜\tPS\n",
      "\n",
      "input> 미국 트럼프 대통령이 트위트했다\n",
      "\n",
      "output> <미국:LC> <트럼프:PS> 대통령이 트위트했다\n",
      "\n",
      "미국\tLC\n",
      "\n",
      "트럼프\tPS\n",
      "\n",
      "input> 한국의 대통령은 문재인 대통령이다\n",
      "\n",
      "output> <한국:LC>의 대통령은 문재인 대통령이다\n",
      "\n",
      "한국\tLC\n",
      "\n",
      "input> 한국의 대통령은 문재인이다\n",
      "\n",
      "output> <한국:LC>의 대통령은 문재인이다\n",
      "\n",
      "한국\tLC\n",
      "\n"
     ]
    }
   ],
   "source": [
    "cnn_model.interactive_shell(vocab_tags, processing_word, processing_mor_tag, processing_lex_tag)"
   ]
  },
  {
   "cell_type": "markdown",
   "metadata": {},
   "source": [
    "; 국내 영화시장 규모는 최근 3년간 2조 원대에서 정체된 상태인 해외 로컬 제작 방식으로 만든 '수상한 그녀'가 중국, 베트남, 일본, 태국 등 5개국 리메이크돼 총 780억 원의 매출로 성공을 거둔 바 있습니다. \n",
    "\n",
    "지난 해 네이버는 라인 상장과 새로운 경영 리더십 구축을 계기로, 대외 조직의 일하는 방식도 쇄신하며 외부 문의나 요청들을 모두 공식적인 프로세스를 통해 진행하는 시스템을 구축했습니다."
   ]
  },
  {
   "cell_type": "markdown",
   "metadata": {},
   "source": [
    "## Write File"
   ]
  },
  {
   "cell_type": "code",
   "execution_count": 1,
   "metadata": {},
   "outputs": [
    {
     "name": "stderr",
     "output_type": "stream",
     "text": [
      "/usr/local/lib/python3.5/dist-packages/tensorflow/python/ops/gradients_impl.py:95: UserWarning: Converting sparse IndexedSlices to a dense Tensor of unknown shape. This may consume a large amount of memory.\n",
      "  \"Converting sparse IndexedSlices to a dense Tensor of unknown shape. \"\n"
     ]
    },
    {
     "name": "stdout",
     "output_type": "stream",
     "text": [
      "INFO:tensorflow:Restoring parameters from data/model_1012/model_fil_2345_600_100_128_drop_0.8_0924.weights\n"
     ]
    },
    {
     "name": "stderr",
     "output_type": "stream",
     "text": [
      "Restoring parameters from data/model_1012/model_fil_2345_600_100_128_drop_0.8_0924.weights\n"
     ]
    },
    {
     "name": "stdout",
     "output_type": "stream",
     "text": [
      "['허파통과', '갈레노스:PS', '하아비:PS']\n",
      "list index out of range\n",
      "['아리스토텔레스:PS', '스콜라역학(Scholastic mechanics)', '아르키메데스:OG']\n",
      "list index out of range\n",
      "['데카르트:PS', '충돌(impact)']\n",
      "list index out of range\n",
      "['관성(inertia)', '갈릴레오:PS', '갈릴레오:PS']\n",
      "list index out of range\n",
      "['아리스토텔레스:PS', '운동', '고대:DT', '중세:DT', '아리스토텔레스:PS']\n",
      "list index out of range\n",
      "['우혁:PS', '토니:PS', '희준:PS', '아이야', '환희', '투지']\n",
      "list index out of range\n"
     ]
    }
   ],
   "source": [
    "from data_utils import get_trimmed_glove_vectors, load_vocab, \\\n",
    "    get_processing_word, Data\n",
    "from config import Config\n",
    "from cnn_lstm_crf import CnnLstmCrfModel\n",
    "\n",
    "config = Config()\n",
    "\n",
    "vocab_words = load_vocab(config.words_filename)\n",
    "vocab_mor_tags = load_vocab(config.mor_tags_filename)\n",
    "vocab_tags  = load_vocab(config.tags_filename)\n",
    "vocab_chars = load_vocab(config.chars_filename)\n",
    "vocab_lex_tags = load_vocab(config.lex_tags_filename)\n",
    "\n",
    "# get processing functions\n",
    "processing_word = get_processing_word(vocab_words, vocab_chars,\n",
    "                lowercase=True, chars=config.chars)\n",
    "processing_mor_tag = get_processing_word(vocab_mor_tags, lowercase=False)\n",
    "processing_lex_tag = get_processing_word(vocab_lex_tags, lowercase=False)\n",
    "\n",
    "\n",
    "# get pre trained embeddings\n",
    "embeddings = get_trimmed_glove_vectors(config.trimmed_filename)\n",
    "\n",
    "cnn_model = CnnLstmCrfModel(config, embeddings, ntags=len(vocab_tags),nchars=len(vocab_chars))\n",
    "cnn_model.build()\n",
    "\n",
    "cnn_model.write_tag_result_test(vocab_tags, processing_word, processing_mor_tag, processing_lex_tag)"
   ]
  },
  {
   "cell_type": "code",
   "execution_count": null,
   "metadata": {
    "collapsed": true
   },
   "outputs": [],
   "source": []
  }
 ],
 "metadata": {
  "kernelspec": {
   "display_name": "Python 3",
   "language": "python",
   "name": "python3"
  },
  "language_info": {
   "codemirror_mode": {
    "name": "ipython",
    "version": 3
   },
   "file_extension": ".py",
   "mimetype": "text/x-python",
   "name": "python",
   "nbconvert_exporter": "python",
   "pygments_lexer": "ipython3",
   "version": "3.5.2"
  }
 },
 "nbformat": 4,
 "nbformat_minor": 2
}
